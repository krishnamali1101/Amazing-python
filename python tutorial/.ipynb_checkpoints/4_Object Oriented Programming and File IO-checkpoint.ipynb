{
 "cells": [
  {
   "cell_type": "markdown",
   "metadata": {},
   "source": [
    "# OOPs Concepts & file Input-Output"
   ]
  },
  {
   "cell_type": "markdown",
   "metadata": {},
   "source": [
    "\n",
    "# Overview\n",
    "* OOPs\n",
    "  * OOPS Basic Concepts\n",
    "  * Creating Classes And Objects\n",
    "  * Inheritance\n",
    "  * Attributes\n",
    "  *\tPolymorphism\n",
    "    * Overloading\n",
    "  \t* Overriding\n",
    "  * Data hiding\n",
    "* Input-Output\n",
    "\t* Printing on screen\n",
    "\t* Reading data from keyboard\n",
    "\t* Opening and closing file\n",
    "\t* Reading and writing files\n",
    "  * Buffered Read And Write\n",
    "  * Other File Methods\n",
    "* Monkey Patching\n",
    "* Decorators"
   ]
  },
  {
   "cell_type": "markdown",
   "metadata": {},
   "source": [
    "# Object Oriented Programming and File I/O"
   ]
  },
  {
   "cell_type": "markdown",
   "metadata": {},
   "source": [
    "__Object Oriented Programming (OOP)__ is a programming paradigm that allows abstraction through the concept of interacting entities. This programming works contradictory to conventional model and is procedural, in which programs are organized as a sequence of commands or statements to perform.\n",
    "\n",
    "We can think an object as an entity that resides in memory, has a state and it's able to perform some actions. \n",
    " \n",
    "More formally objects are entities that represent **instances** of a general abstract concept called **class**. In `Python`, \"attributes\" are the variables defining an object state and the possible actions are called \"methods\".\n",
    "\n",
    "In Python, everything is an object also classes and functions."
   ]
  },
  {
   "cell_type": "markdown",
   "metadata": {},
   "source": [
    "# Python OOPs Concepts\n",
    "* Object\n",
    "* Class\n",
    "* Method\n",
    "* Inheritance\n",
    "* Polymorphism\n",
    "* Encapsulation\n",
    "* Data Abstraction\n"
   ]
  },
  {
   "cell_type": "markdown",
   "metadata": {},
   "source": [
    "## Object\n",
    "The object is **an entity that has state and behavior.** It may be any real-world object like the mouse, keyboard, chair, table, pen, etc.\n",
    "\n",
    "\n",
    "**Everything in Python is an object, and almost everything has attributes and methods.** All functions have a built-in attribute __doc__, which returns the doc string defined in the function source code.\n",
    "\n",
    "\n",
    "## Class\n",
    "**A class is a blueprint for the object.** It is a logical entity that has some specific attributes and methods. For example: if you have an employee class then it should contain an attribute and method, i.e. an email id, name, age, salary, etc.\n",
    "\n",
    "\n",
    "\n",
    "## Method\n",
    "The **method is a function that is associated with an object.** In Python, a method is not unique to class instances. Any object type can have methods.\n",
    "\n",
    "\n",
    "## Inheritance\n",
    "Inheritance is the most important aspect of object-oriented programming which simulates the real world concept of inheritance. It specifies that **the child object acquires all the properties and behaviors of the parent object.**\n",
    "\n",
    "By using inheritance, we can create a class which uses all the properties and behavior of another class. The new class is known as a derived class or child class, and the one whose properties are acquired is known as a base class or parent class.\n",
    "\n",
    "**It provides re-usability of the code.**\n",
    "\n",
    "\n",
    "## Polymorphism\n",
    "Polymorphism contains two words \"poly\" and \"morphs\". Poly means many and Morphs means form, shape. By polymorphism, we understand that **one task can be performed in different ways.** For example You have a class animal, and all animals speak. But they speak differently. Here, the \"speak\" behavior is polymorphic in the sense and depends on the animal. So, the abstract \"animal\" concept does not actually \"speak\", but specific animals (like dogs and cats) have a concrete implementation of the action \"speak\".\n",
    "\n",
    "## Encapsulation\n",
    "Encapsulation is also an important aspect of object-oriented programming. It is used to restrict access to methods and variables. In encapsulation, **code and data are wrapped together within a single unit from being modified by accident.**\n",
    "\n",
    "## Data Abstraction\n",
    "Data abstraction and encapsulation both are often used as synonyms. Both are nearly synonym because **data abstraction is achieved through encapsulation.**\n",
    "\n",
    "**Abstraction is used to hide internal details and show only functionalities.** Abstracting something means to give names to things so that the name captures the core of what a function or a whole program does."
   ]
  },
  {
   "cell_type": "markdown",
   "metadata": {},
   "source": [
    "---"
   ]
  },
  {
   "cell_type": "markdown",
   "metadata": {},
   "source": [
    "# Class & Object"
   ]
  },
  {
   "cell_type": "markdown",
   "metadata": {},
   "source": [
    "## How to define classes"
   ]
  },
  {
   "cell_type": "markdown",
   "metadata": {},
   "source": [
    "### 1.1 Creating a class"
   ]
  },
  {
   "cell_type": "markdown",
   "metadata": {},
   "source": [
    "Suppose we want to create a class, named Person, as a prototype, a sort of template for any number of 'Person' objects (instances)."
   ]
  },
  {
   "cell_type": "code",
   "execution_count": 1,
   "metadata": {},
   "outputs": [],
   "source": [
    "class Abc:\n",
    "    def f(self):\n",
    "        return 'str'"
   ]
  },
  {
   "cell_type": "code",
   "execution_count": 2,
   "metadata": {},
   "outputs": [
    {
     "data": {
      "text/plain": [
       "'str'"
      ]
     },
     "execution_count": 2,
     "metadata": {},
     "output_type": "execute_result"
    }
   ],
   "source": [
    "a = Abc()\n",
    "a.f()"
   ]
  },
  {
   "cell_type": "markdown",
   "metadata": {},
   "source": [
    "The following python syntax defines a class:\n",
    "\n",
    "    class ClassName(base_classes):\n",
    "        statements\n",
    "\n",
    "        "
   ]
  },
  {
   "cell_type": "markdown",
   "metadata": {},
   "source": [
    "Class names should always be uppercase (it's a naming convention)."
   ]
  },
  {
   "cell_type": "markdown",
   "metadata": {},
   "source": [
    "Say we need to model a Person as:\n",
    "\n",
    "* Name\n",
    "* Surname  \n",
    "* Age  "
   ]
  },
  {
   "cell_type": "code",
   "execution_count": 3,
   "metadata": {},
   "outputs": [
    {
     "name": "stdout",
     "output_type": "stream",
     "text": [
      "<__main__.Person object at 0x110f366a0>\n",
      "Alec Baldwin was born in 1987.\n"
     ]
    }
   ],
   "source": [
    "\n",
    "class Person:\n",
    "    def __init__(self, name, surname, year):\n",
    "        self.name = name\n",
    "        self.surname = surname\n",
    "        self.year_of_birth = year\n",
    "        \n",
    "#     def f():\n",
    "#         self.age = 10\n",
    "        \n",
    "#     def f2():\n",
    "#         print(self.age)\n",
    "\n",
    "john_doe = Person(\"Alec\", \"Baldwin\", 1987)\n",
    "\n",
    "\n",
    "# john_doe.name = \"Alec\"\n",
    "# john_doe.surname = \"Baldwin\"\n",
    "# john_doe.year_of_birth = 1958\n",
    "\n",
    "\n",
    "print(john_doe)\n",
    "print(\"%s %s was born in %d.\" %(john_doe.name, john_doe.surname, john_doe.year_of_birth))"
   ]
  },
  {
   "cell_type": "code",
   "execution_count": 4,
   "metadata": {},
   "outputs": [
    {
     "data": {
      "text/plain": [
       "20"
      ]
     },
     "execution_count": 4,
     "metadata": {},
     "output_type": "execute_result"
    }
   ],
   "source": [
    "# Not good way \n",
    "\n",
    "john_doe.age = 20\n",
    "\n",
    "john_doe.age"
   ]
  },
  {
   "cell_type": "code",
   "execution_count": 5,
   "metadata": {},
   "outputs": [
    {
     "ename": "AttributeError",
     "evalue": "'Person' object has no attribute 'age'",
     "output_type": "error",
     "traceback": [
      "\u001b[0;31m---------------------------------------------------------------------------\u001b[0m",
      "\u001b[0;31mAttributeError\u001b[0m                            Traceback (most recent call last)",
      "\u001b[0;32m<ipython-input-5-91fc636a90cb>\u001b[0m in \u001b[0;36m<module>\u001b[0;34m\u001b[0m\n\u001b[1;32m      1\u001b[0m \u001b[0mjohn_doe2\u001b[0m \u001b[0;34m=\u001b[0m \u001b[0mPerson\u001b[0m\u001b[0;34m(\u001b[0m\u001b[0;34m\"Alec\"\u001b[0m\u001b[0;34m,\u001b[0m \u001b[0;34m\"Baldwin\"\u001b[0m\u001b[0;34m,\u001b[0m \u001b[0;36m1987\u001b[0m\u001b[0;34m)\u001b[0m\u001b[0;34m\u001b[0m\u001b[0m\n\u001b[1;32m      2\u001b[0m \u001b[0;34m\u001b[0m\u001b[0m\n\u001b[0;32m----> 3\u001b[0;31m \u001b[0mjohn_doe2\u001b[0m\u001b[0;34m.\u001b[0m\u001b[0mage\u001b[0m\u001b[0;34m\u001b[0m\u001b[0m\n\u001b[0m",
      "\u001b[0;31mAttributeError\u001b[0m: 'Person' object has no attribute 'age'"
     ]
    }
   ],
   "source": [
    "john_doe2 = Person(\"Alec\", \"Baldwin\", 1987)\n",
    "\n",
    "john_doe2.age"
   ]
  },
  {
   "cell_type": "markdown",
   "metadata": {},
   "source": [
    "The following example defines an empty class (i.e. the class doesn't have a state) called _Person_ then creates a _Person_ instance called _john_doe_ and adds three attributes to _john_doe_. We see that we can access objects attributes using the \"dot\" operator.\n",
    "\n",
    "This isn't a recommended style because classes should describe homogeneous entities. A way to do so is the following:"
   ]
  },
  {
   "cell_type": "code",
   "execution_count": 7,
   "metadata": {},
   "outputs": [],
   "source": [
    "class Person:\n",
    "    def __init__(self, name, surname, year_of_birth):\n",
    "        self.name = name\n",
    "        self.surname = surname\n",
    "        self.year_of_birth = year_of_birth"
   ]
  },
  {
   "cell_type": "markdown",
   "metadata": {},
   "source": [
    "    __init__(self, ...)\n",
    "Is a special _Python_ method that is automatically called after an object construction. Its purpose is to initialize every object state. The first argument (by convention) __self__ is automatically passed either and refers to the object itself.\n",
    "\n",
    "In the preceding example, `__init__` adds three attributes to every object that is instantiated. So the class is actually describing each object's state.\n"
   ]
  },
  {
   "cell_type": "markdown",
   "metadata": {},
   "source": [
    "We cannot directly manipulate any class rather we need to create an instance of the class: "
   ]
  },
  {
   "cell_type": "code",
   "execution_count": 8,
   "metadata": {},
   "outputs": [
    {
     "name": "stdout",
     "output_type": "stream",
     "text": [
      "<__main__.Person object at 0x110fbae10>\n",
      "Alec Baldwin was born in 1987.\n"
     ]
    }
   ],
   "source": [
    "alec = Person(\"Alec\", \"Baldwin\", 1958)\n",
    "print(alec)\n",
    "print(\"%s %s was born in %d.\"  %(john_doe.name, john_doe.surname, john_doe.year_of_birth))\n"
   ]
  },
  {
   "cell_type": "markdown",
   "metadata": {},
   "source": [
    "\n",
    "We have just created an instance of the Person class, bound to the variable `alec`. "
   ]
  },
  {
   "cell_type": "markdown",
   "metadata": {},
   "source": [
    "# __repr__() vs __str__()\n",
    "\n",
    "\n",
    "### Python __str__()\n",
    "This method **returns the string representation of the object.** This method is called when print() or str() function is invoked on an object.\n",
    "\n",
    "This method must return the String object. If we don’t implement __str__() function for a class, then built-in object implementation is used that actually calls __repr__() function.\n",
    "\n",
    "### Python __repr__()\n",
    "Python __repr__() function **returns the object representation.** It could be any valid python expression such as tuple, dictionary, string etc.\n",
    "\n",
    "This method is called when repr() function is invoked on the object, in that case, __repr__() function must return a String otherwise error will be thrown.\n",
    "\n",
    "\n",
    "> ### Difference between __str__ and __repr__ functions\n",
    "* __str__ must return string object whereas __repr__ can return any python expression.\n",
    "* If __str__ implementation is missing then __repr__ function is used as fallback. There is no fallback if __repr__ function implementation is missing.\n",
    "* If __repr__ function is returning String representation of the object, we can skip implementation of __str__ function.\n",
    "\n",
    "if __repr__ is defined, and __str__ is not, the object will behave as though __str__=__repr__.\n",
    "\n",
    "This means, in simple terms: almost every object you implement should have a functional __repr__ that’s usable for understanding the object. Implementing __str__ is optional: do that if you need a “pretty print” functionality (for example, used by a report generator).\n",
    "\n",
    "https://www.journaldev.com/22460/python-str-repr-functions\n",
    "https://www.geeksforgeeks.org/str-vs-repr-in-python/\n"
   ]
  },
  {
   "cell_type": "code",
   "execution_count": 9,
   "metadata": {},
   "outputs": [],
   "source": [
    "# A user defined class to represent Complex numbers \n",
    "class Complex: \n",
    "  \n",
    "    # Constructor \n",
    "    def __init__(self, real, imag): \n",
    "        self.real = real \n",
    "        self.imag = imag \n",
    "  \n",
    "    # For call to repr(). Prints object's information \n",
    "    def __repr__(self): \n",
    "        return 'Rational(%s, %s)' % (self.real, self.imag)     \n",
    "  \n",
    "    # For call to str(). Prints readable form \n",
    "#     def __str__(self): \n",
    "#         return '%s + i%s' % (self.real, self.imag)     \n",
    "  \n",
    "  \n",
    "# Driver program to test above \n",
    "t = Complex(10, 20) \n",
    "  \n",
    "# print(str(t))  # Same as \"print t\" \n",
    "# print(repr(t))"
   ]
  },
  {
   "cell_type": "code",
   "execution_count": 10,
   "metadata": {
    "scrolled": true
   },
   "outputs": [
    {
     "data": {
      "text/plain": [
       "Rational(10, 20)"
      ]
     },
     "execution_count": 10,
     "metadata": {},
     "output_type": "execute_result"
    }
   ],
   "source": [
    "t\n",
    "#t.__str__()"
   ]
  },
  {
   "cell_type": "code",
   "execution_count": 11,
   "metadata": {
    "scrolled": true
   },
   "outputs": [
    {
     "data": {
      "text/plain": [
       "{'imag': 20, 'real': 10}"
      ]
     },
     "execution_count": 11,
     "metadata": {},
     "output_type": "execute_result"
    }
   ],
   "source": [
    "d = t.__dict__\n",
    "\n",
    "d"
   ]
  },
  {
   "cell_type": "code",
   "execution_count": 12,
   "metadata": {},
   "outputs": [],
   "source": [
    "# import json\n",
    "\n",
    "# json.dump(d, 'abc.json')"
   ]
  },
  {
   "cell_type": "markdown",
   "metadata": {},
   "source": [
    "---"
   ]
  },
  {
   "cell_type": "markdown",
   "metadata": {},
   "source": [
    "# Methods"
   ]
  },
  {
   "cell_type": "code",
   "execution_count": 13,
   "metadata": {},
   "outputs": [
    {
     "name": "stdout",
     "output_type": "stream",
     "text": [
      "Alec Baldwin age is 1958 .\n",
      "56\n"
     ]
    }
   ],
   "source": [
    "class Person:\n",
    "    def __init__(self, name, surname, year_of_birth):\n",
    "        self.name = name\n",
    "        self.surname = surname\n",
    "        self.year_of_birth = year_of_birth\n",
    "\n",
    "    \n",
    "    def age(self, current_year):\n",
    "        return current_year - self.year_of_birth\n",
    "    \n",
    "    def __repr__(self):\n",
    "        return \"%s %s age is %d .\" % (self.name, self.surname, self.year_of_birth)\n",
    "\n",
    "alec = Person(\"Alec\", \"Baldwin\", 1958)\n",
    "print(alec)\n",
    "#print(alec.__str__())\n",
    "print(alec.age(2014))\n"
   ]
  },
  {
   "cell_type": "markdown",
   "metadata": {},
   "source": [
    "We defined two more methods `age` and  `__str__`. The latter is once again a special method that is called by Python when the object has to be represented as a string (e.g. when has to be printed). If the `__str__` method isn't defined the **print** command shows the type of object and its address in memory. We can see that in order to call a method we use the same syntax for attributes (**instance_name.instance _method**)."
   ]
  },
  {
   "cell_type": "markdown",
   "metadata": {},
   "source": [
    "### 1.3 Bad practice"
   ]
  },
  {
   "cell_type": "markdown",
   "metadata": {},
   "source": [
    "It is possible to create a class without the `__init__` method, but this is not a recommended style because classes should describe homogeneous entities."
   ]
  },
  {
   "cell_type": "code",
   "execution_count": 14,
   "metadata": {},
   "outputs": [
    {
     "ename": "AttributeError",
     "evalue": "'Person' object has no attribute 'name'",
     "output_type": "error",
     "traceback": [
      "\u001b[0;31m---------------------------------------------------------------------------\u001b[0m",
      "\u001b[0;31mAttributeError\u001b[0m                            Traceback (most recent call last)",
      "\u001b[0;32m<ipython-input-14-04580aae15a6>\u001b[0m in \u001b[0;36m<module>\u001b[0;34m\u001b[0m\n\u001b[1;32m     20\u001b[0m \u001b[0mobj\u001b[0m \u001b[0;34m=\u001b[0m \u001b[0mPerson\u001b[0m\u001b[0;34m(\u001b[0m\u001b[0;34m)\u001b[0m\u001b[0;34m\u001b[0m\u001b[0m\n\u001b[1;32m     21\u001b[0m \u001b[0;31m#obj.set_name(\"abc\")\u001b[0m\u001b[0;34m\u001b[0m\u001b[0;34m\u001b[0m\u001b[0m\n\u001b[0;32m---> 22\u001b[0;31m \u001b[0mobj\u001b[0m\u001b[0;34m.\u001b[0m\u001b[0mname\u001b[0m\u001b[0;34m\u001b[0m\u001b[0m\n\u001b[0m",
      "\u001b[0;31mAttributeError\u001b[0m: 'Person' object has no attribute 'name'"
     ]
    }
   ],
   "source": [
    "class Person:\n",
    "  \n",
    "    def set_name(self, name):\n",
    "        self.name = name\n",
    "        \n",
    "    def set_surname(self, surname):\n",
    "        self.surname = surname\n",
    "        \n",
    "    def set_year_of_birth(self, year_of_birth):\n",
    "        self.year_of_birth = year_of_birth\n",
    "        \n",
    "    def age(self, current_year):\n",
    "        return current_year - self.year_of_birth\n",
    "    \n",
    "    def __str__(self):\n",
    "        return \"%s %s was born in %d .\" \\\n",
    "                % (self.name, self.surname, self.year_of_birth)\n",
    "\n",
    "    \n",
    "obj = Person()\n",
    "#obj.set_name(\"abc\")\n",
    "obj.name"
   ]
  },
  {
   "cell_type": "markdown",
   "metadata": {},
   "source": [
    "In this case, an empty instance of the class Person is created, and no attributes have been initialized while instantiating:"
   ]
  },
  {
   "cell_type": "code",
   "execution_count": 15,
   "metadata": {},
   "outputs": [],
   "source": [
    "president = Person()"
   ]
  },
  {
   "cell_type": "code",
   "execution_count": 16,
   "metadata": {},
   "outputs": [
    {
     "ename": "AttributeError",
     "evalue": "'Person' object has no attribute 'name'",
     "output_type": "error",
     "traceback": [
      "\u001b[0;31m---------------------------------------------------------------------------\u001b[0m",
      "\u001b[0;31mAttributeError\u001b[0m                            Traceback (most recent call last)",
      "\u001b[0;32m<ipython-input-16-004adac081fd>\u001b[0m in \u001b[0;36m<module>\u001b[0;34m\u001b[0m\n\u001b[1;32m      1\u001b[0m \u001b[0;31m# This code will raise an attribute error:\u001b[0m\u001b[0;34m\u001b[0m\u001b[0;34m\u001b[0m\u001b[0m\n\u001b[0;32m----> 2\u001b[0;31m \u001b[0mprint\u001b[0m\u001b[0;34m(\u001b[0m\u001b[0mpresident\u001b[0m\u001b[0;34m.\u001b[0m\u001b[0mname\u001b[0m\u001b[0;34m)\u001b[0m\u001b[0;34m\u001b[0m\u001b[0m\n\u001b[0m",
      "\u001b[0;31mAttributeError\u001b[0m: 'Person' object has no attribute 'name'"
     ]
    }
   ],
   "source": [
    "# This code will raise an attribute error:\n",
    "print(president.name)"
   ]
  },
  {
   "cell_type": "markdown",
   "metadata": {},
   "source": [
    "This raises an Attribute Error... We need to set the attributes:"
   ]
  },
  {
   "cell_type": "code",
   "execution_count": 17,
   "metadata": {},
   "outputs": [],
   "source": [
    "president.set_name('John')\n",
    "president.set_surname('Doe')\n",
    "president.set_year_of_birth(1940)"
   ]
  },
  {
   "cell_type": "code",
   "execution_count": 18,
   "metadata": {},
   "outputs": [
    {
     "name": "stdout",
     "output_type": "stream",
     "text": [
      "Mr John Doe is the president, and he is very old. He is 74\n"
     ]
    }
   ],
   "source": [
    "print('Mr', president.name, president.surname,\n",
    "      'is the president, and he is very old. He is',\n",
    "      president.age(2014))"
   ]
  },
  {
   "cell_type": "markdown",
   "metadata": {},
   "source": [
    "---"
   ]
  },
  {
   "cell_type": "markdown",
   "metadata": {},
   "source": [
    "# Inheritance\n",
    "\n",
    "Inheritance is the capability of one class to derive or inherit the properties from some another class. The benefits of inheritance are:\n",
    "\n",
    "* It represents **real-world relationships** well.\n",
    "* It provides **reusability of a code**. We don’t have to write the same code again and again. Also, it allows us to **add more features to a class without modifying it.**\n",
    "* It is **transitive in nature**, which means that if class B inherits from another class A, then all the subclasses of B would automatically inherit from class A."
   ]
  },
  {
   "cell_type": "markdown",
   "metadata": {},
   "source": [
    "Once a class is defined it models a concept. It is useful to extend a class behavior to model a less general concept. Say we need to model a Student, but we know that every student is also a Person so we shouldn't model the Person again but inherit from it instead."
   ]
  },
  {
   "cell_type": "code",
   "execution_count": 19,
   "metadata": {},
   "outputs": [],
   "source": [
    "class A:\n",
    "    pass"
   ]
  },
  {
   "cell_type": "code",
   "execution_count": 20,
   "metadata": {},
   "outputs": [],
   "source": [
    "class Person:\n",
    "    def __init__(self, name, surname, year_of_birth):\n",
    "        self.name = name\n",
    "        self.surname = surname\n",
    "        self.year_of_birth = year_of_birth\n",
    "\n",
    "    \n",
    "    def age(self, current_year):\n",
    "        return current_year - self.year_of_birth\n",
    "    \n",
    "    def __repr__(self):\n",
    "        return \"%s %s age is %d .\" % (self.name, self.surname, self.year_of_birth)\n",
    "    \n",
    "    \n",
    "obj = Person('kri', 'mali', 1989)"
   ]
  },
  {
   "cell_type": "code",
   "execution_count": 21,
   "metadata": {},
   "outputs": [
    {
     "data": {
      "text/plain": [
       "28"
      ]
     },
     "execution_count": 21,
     "metadata": {},
     "output_type": "execute_result"
    }
   ],
   "source": [
    "def add(*arg):\n",
    "    s=0\n",
    "    for n in arg:\n",
    "        s+=n\n",
    "        \n",
    "        \n",
    "    return s\n",
    "\n",
    "add(1,2,3,4,5,6,7)"
   ]
  },
  {
   "cell_type": "code",
   "execution_count": 22,
   "metadata": {},
   "outputs": [
    {
     "name": "stdout",
     "output_type": "stream",
     "text": [
      "Charlie Brown age is 2006 .\n",
      "13\n",
      "<class '__main__.Student'>\n",
      "True\n",
      "True\n",
      "True\n",
      "False\n"
     ]
    }
   ],
   "source": [
    "class Student(Person):\n",
    "    def __init__(self, student_id, *args, **kwargs):\n",
    "        super(Student, self).__init__(*args, **kwargs)\n",
    "        self._student_id = student_id\n",
    "        \n",
    "charlie = Student(1, 'Charlie', 'Brown', 2006)\n",
    "\n",
    "print(charlie)\n",
    "print(charlie.age(2019))\n",
    "\n",
    "print(type(charlie))\n",
    "print(isinstance(charlie, Student))\n",
    "print(isinstance(charlie, Person))\n",
    "print(isinstance(charlie, object))\n",
    "print(isinstance(charlie, A))\n"
   ]
  },
  {
   "cell_type": "markdown",
   "metadata": {},
   "source": [
    "Charlie now has the same behavior of a Person, but his state has also a student ID. A Person is one of the base classes of Student and Student is one of the sub classes of Person. Be aware that a subclass knows about its superclasses but the converse isn't true.\n",
    "\n",
    "A sub class doesn't only inherits from its base classes, but from its base classes too, forming an inheritance tree that starts from a object (every class base class).\n",
    "\n",
    "    super(Class, instance)\n",
    "    \n",
    "is a function that returns a proxy-object that delegates method calls to a parent or sibling class of type.\n",
    "So we used it to access Person's `__init__`."
   ]
  },
  {
   "cell_type": "markdown",
   "metadata": {},
   "source": [
    "## Different forms of Inheritance:\n",
    "1. **Single inheritance:** When a child class inherits from only one parent class, it is called as single inheritance. We saw an example above."
   ]
  },
  {
   "cell_type": "code",
   "execution_count": 23,
   "metadata": {},
   "outputs": [
    {
     "name": "stdout",
     "output_type": "stream",
     "text": [
      "Rahul\n",
      "886012\n"
     ]
    }
   ],
   "source": [
    "\n",
    "# Python code to demonstrate how parent constructors \n",
    "# are called. \n",
    "\n",
    "'''\n",
    "# inbuilt class\n",
    "\n",
    "class object:\n",
    "    def __init__(self):\n",
    "        self.__file__\n",
    "        self.__dect__\n",
    "        \n",
    "        \n",
    "    def __str__(self):\n",
    "        pass\n",
    "        \n",
    "    def __repr__(self):\n",
    "        pass\n",
    "    \n",
    "'''\n",
    "\n",
    "\n",
    "# parent class \n",
    "class Person( object ):     \n",
    "  \n",
    "        # __init__ is known as the constructor          \n",
    "        def __init__(self, name, idnumber):    \n",
    "                self.name = name \n",
    "                self.idnumber = idnumber \n",
    "        def display(self): \n",
    "                print(self.name) \n",
    "                print(self.idnumber) \n",
    "  \n",
    "# child class \n",
    "class Employee( Person ):            \n",
    "        def __init__(self, name, idnumber, salary, post): \n",
    "                self.salary = salary \n",
    "                self.post = post \n",
    "  \n",
    "                # invoking the __init__ of the parent class  \n",
    "                Person.__init__(self, name, idnumber)  \n",
    "  \n",
    "                  \n",
    "# creation of an object variable or an instance \n",
    "a = Person('Rahul', 886012)     \n",
    "  \n",
    "# calling a function of the class Person using its instance \n",
    "a.display()  "
   ]
  },
  {
   "cell_type": "code",
   "execution_count": 24,
   "metadata": {},
   "outputs": [
    {
     "name": "stdout",
     "output_type": "stream",
     "text": [
      "Rahul\n",
      "886012\n"
     ]
    }
   ],
   "source": [
    "obj = Employee('Rahul', 886012, 230000,'sw')\n",
    "\n",
    "obj.display()"
   ]
  },
  {
   "cell_type": "markdown",
   "metadata": {},
   "source": [
    "**2. Multiple inheritance:** When a child class inherits from multiple parent classes, it is called as multiple inheritance.\n",
    "\n",
    "Unlike Java and like C++, Python supports multiple inheritance. We specify all parent classes as comma separated list in bracket."
   ]
  },
  {
   "cell_type": "code",
   "execution_count": 25,
   "metadata": {},
   "outputs": [
    {
     "name": "stdout",
     "output_type": "stream",
     "text": [
      "Base1\n",
      "Base2\n",
      "Derived\n",
      "Geek1 Geek2\n"
     ]
    }
   ],
   "source": [
    "# Python example to show working of multiple  \n",
    "# inheritance \n",
    "class Base1(object): \n",
    "    def __init__(self): \n",
    "        self.str1 = \"Geek1\"\n",
    "        print(\"Base1\") \n",
    "        \n",
    "        \n",
    "class Base2(object): \n",
    "    def __init__(self): \n",
    "        self.str2 = \"Geek2\"        \n",
    "        print(\"Base2\")\n",
    "        \n",
    "\n",
    "class Derived(Base1, Base2):\n",
    "    def __init__(self): \n",
    "          \n",
    "        # Calling constructors of Base1 \n",
    "        # and Base2 classes \n",
    "        Base1.__init__(self) \n",
    "        Base2.__init__(self) \n",
    "        print(\"Derived\")\n",
    "          \n",
    "    def printStrs(self): \n",
    "        print(self.str1, self.str2) \n",
    "         \n",
    "\n",
    "ob = Derived() \n",
    "ob.printStrs() "
   ]
  },
  {
   "cell_type": "code",
   "execution_count": 26,
   "metadata": {},
   "outputs": [
    {
     "name": "stdout",
     "output_type": "stream",
     "text": [
      "in A\n"
     ]
    }
   ],
   "source": [
    "class A:\n",
    "    def f(self):\n",
    "        print('in A')\n",
    "        \n",
    "class B:\n",
    "    def f(self):\n",
    "        print('in B')\n",
    "        \n",
    "class C(A,B):\n",
    "    pass\n",
    "\n",
    "\n",
    "obj = C()\n",
    "obj.f()\n",
    "\n",
    "# f(obj)"
   ]
  },
  {
   "cell_type": "markdown",
   "metadata": {},
   "source": [
    "**3. Multilevel inheritance:** When we have child and grand child relationship."
   ]
  },
  {
   "cell_type": "code",
   "execution_count": 27,
   "metadata": {},
   "outputs": [
    {
     "name": "stdout",
     "output_type": "stream",
     "text": [
      "Geek1 23 Noida\n"
     ]
    }
   ],
   "source": [
    "# A Python program to demonstrate inheritance  \n",
    "  \n",
    "# Base or Super class. Note object in bracket. \n",
    "# (Generally, object is made ancestor of all classes) \n",
    "# In Python 3.x \"class Person\" is  \n",
    "# equivalent to \"class Person(object)\" \n",
    "class Base(object): \n",
    "      \n",
    "    # Constructor \n",
    "    def __init__(self, name): \n",
    "        self.name = name \n",
    "  \n",
    "    # To get name \n",
    "    def getName(self): \n",
    "        return self.name \n",
    "  \n",
    "  \n",
    "# Inherited or Sub class (Note Person in bracket) \n",
    "class Child(Base): \n",
    "      \n",
    "    # Constructor \n",
    "    def __init__(self, name, age): \n",
    "        Base.__init__(self, name) \n",
    "        self.age = age \n",
    "  \n",
    "    # To get name \n",
    "    def getAge(self): \n",
    "        return self.age \n",
    "  \n",
    "# Inherited or Sub class (Note Person in bracket) \n",
    "class GrandChild(Child): \n",
    "      \n",
    "    # Constructor \n",
    "    def __init__(self, name, age, address): \n",
    "        Child.__init__(self, name, age) \n",
    "        self.address = address \n",
    "  \n",
    "    # To get address \n",
    "    def getAddress(self): \n",
    "        return self.address         \n",
    "  \n",
    "# Driver code \n",
    "g = GrandChild(\"Geek1\", 23, \"Noida\")   \n",
    "print(g.getName(), g.getAge(), g.getAddress())"
   ]
  },
  {
   "cell_type": "markdown",
   "metadata": {},
   "source": [
    "**4. Hierarchical inheritance:** More than one derived classes are created from a single base.\n",
    "\n",
    "**5. Hybrid inheritance:** This form combines more than one form of inheritance. Basically, it is a blend of more than one type of inheritance.\n",
    "\n"
   ]
  },
  {
   "cell_type": "markdown",
   "metadata": {},
   "source": [
    "https://www.geeksforgeeks.org/inheritance-in-python/\n",
    "\n",
    "https://www.geeksforgeeks.org/oop-in-python-set-3-inheritance-examples-of-object-issubclass-and-super/"
   ]
  },
  {
   "cell_type": "markdown",
   "metadata": {},
   "source": [
    "---"
   ]
  },
  {
   "cell_type": "markdown",
   "metadata": {},
   "source": [
    "# Polymorphism and DuckTyping\n",
    "\n",
    "The word polymorphism means having many forms. In programming, polymorphism means same function name (but different signatures) being uses for different types.\n",
    "\n",
    "\n",
    "Python uses dynamic typing which is also called as duck typing. If an object implements a method you can use it, irrespective of the type. This is different from statically typed languages, where the type of a construct need to be explicitly declared. Polymorphism is the ability to use the same syntax for objects of different types:"
   ]
  },
  {
   "cell_type": "code",
   "execution_count": 28,
   "metadata": {},
   "outputs": [
    {
     "name": "stdout",
     "output_type": "stream",
     "text": [
      "5\n",
      "3\n"
     ]
    }
   ],
   "source": [
    "### Example of inbuilt polymorphic functions :\n",
    "  \n",
    "# len() being used for a string \n",
    "print(len(\"geeks\")) \n",
    "  \n",
    "# len() being used for a list \n",
    "print(len([10, 20, 30])) "
   ]
  },
  {
   "cell_type": "code",
   "execution_count": 29,
   "metadata": {},
   "outputs": [
    {
     "data": {
      "text/plain": [
       "3"
      ]
     },
     "execution_count": 29,
     "metadata": {},
     "output_type": "execute_result"
    }
   ],
   "source": [
    "lst = [\"abc\", \"abaagag\", \"jdkdkdh\"]\n",
    "\n",
    "len(lst)"
   ]
  },
  {
   "cell_type": "code",
   "execution_count": 30,
   "metadata": {},
   "outputs": [
    {
     "data": {
      "text/plain": [
       "7"
      ]
     },
     "execution_count": 30,
     "metadata": {},
     "output_type": "execute_result"
    }
   ],
   "source": [
    "len(lst[1])"
   ]
  },
  {
   "cell_type": "code",
   "execution_count": 31,
   "metadata": {},
   "outputs": [
    {
     "name": "stdout",
     "output_type": "stream",
     "text": [
      "default add\n",
      "5\n",
      "default add\n",
      "9\n"
     ]
    }
   ],
   "source": [
    "### Examples of used defined polymorphic functions :\n",
    "\n",
    "# def add(*arg):\n",
    "#     print(\"add(*arg)\")\n",
    "#     s = 0\n",
    "#     for i in arg:\n",
    "#         s+=i      \n",
    "#     return s\n",
    "\n",
    "def add(x, y, z = 0):  \n",
    "    print(\"default add\")\n",
    "    return x + y+z \n",
    "  \n",
    "\n",
    "\n",
    "# Driver code  \n",
    "print(add(2, 3)) \n",
    "print(add(2, 3, 4)) "
   ]
  },
  {
   "cell_type": "markdown",
   "metadata": {},
   "source": [
    "## Difference between Overwriting, Overloading and Overriding"
   ]
  },
  {
   "cell_type": "markdown",
   "metadata": {},
   "source": [
    "### Overwriting"
   ]
  },
  {
   "cell_type": "code",
   "execution_count": 32,
   "metadata": {},
   "outputs": [
    {
     "name": "stdout",
     "output_type": "stream",
     "text": [
      "45\n",
      "46\n"
     ]
    }
   ],
   "source": [
    "def f(x):\n",
    "    return x + 42\n",
    "\n",
    "print(f(3))\n",
    "\n",
    "# f will be overwritten (or redefined) in the following:\n",
    "def f(x):\n",
    "    return x + 43\n",
    "\n",
    "print(f(3))"
   ]
  },
  {
   "cell_type": "markdown",
   "metadata": {},
   "source": [
    "### Overloading"
   ]
  },
  {
   "cell_type": "code",
   "execution_count": 33,
   "metadata": {},
   "outputs": [
    {
     "name": "stdout",
     "output_type": "stream",
     "text": [
      "49\n"
     ]
    }
   ],
   "source": [
    "def f(n):\n",
    "    return n + 42\n",
    " \n",
    "def f(n,m):\n",
    "    return n + m + 42\n",
    "\n",
    "#print(f(3)) # this will not work because overwriting \n",
    "print(f(3, 4))"
   ]
  },
  {
   "cell_type": "code",
   "execution_count": 34,
   "metadata": {},
   "outputs": [
    {
     "name": "stdout",
     "output_type": "stream",
     "text": [
      "45 46\n"
     ]
    }
   ],
   "source": [
    "def f(n, m=None):\n",
    "    if m:\n",
    "        return n + m +42\n",
    "    else:\n",
    "        return n + 42\n",
    "print(f(3), f(1, 3))\n"
   ]
  },
  {
   "cell_type": "code",
   "execution_count": 35,
   "metadata": {},
   "outputs": [
    {
     "name": "stdout",
     "output_type": "stream",
     "text": [
      "45 4 50\n"
     ]
    }
   ],
   "source": [
    "def f(*x,**kargs):\n",
    "    if len(x) == 1:\n",
    "        return x[0] + 42\n",
    "    elif len(x) == 2:\n",
    "        return x[0] - x[1] + 5\n",
    "    else:\n",
    "        return 2 * x[0] + x[1] + 42\n",
    "    \n",
    "print(f(3), f(1, 2), f(3, 2, 1))\n"
   ]
  },
  {
   "cell_type": "markdown",
   "metadata": {},
   "source": [
    "### Overriding"
   ]
  },
  {
   "cell_type": "code",
   "execution_count": 36,
   "metadata": {},
   "outputs": [
    {
     "name": "stdout",
     "output_type": "stream",
     "text": [
      "Everything will be okay! \n",
      "James takes care of you!\n"
     ]
    }
   ],
   "source": [
    "class Robot:\n",
    "    \n",
    "    def __init__(self, name):\n",
    "        self.name = name\n",
    "        \n",
    "    def say_hi(self):\n",
    "        print(\"Hi, I am \" + self.name)\n",
    "        \n",
    "class PhysicianRobot(Robot):\n",
    "    def say_hi(self):\n",
    "        print(\"Everything will be okay! \") \n",
    "        print(self.name + \" takes care of you!\")\n",
    "        \n",
    "        \n",
    "y = PhysicianRobot(\"James\")\n",
    "y.say_hi()"
   ]
  },
  {
   "cell_type": "markdown",
   "metadata": {},
   "source": [
    "Inheritance allows to add new methods to a subclass but often is useful to change the behavior of a method defined in the superclass. To override a method just define it again."
   ]
  },
  {
   "cell_type": "code",
   "execution_count": 37,
   "metadata": {},
   "outputs": [],
   "source": [
    "# parent class \n",
    "class Person( object ):     \n",
    "  \n",
    "        # __init__ is known as the constructor          \n",
    "        def __init__(self, name, idnumber):    \n",
    "                self.name = name \n",
    "                self.idnumber = idnumber \n",
    "        def display(self): \n",
    "                print(self.name) \n",
    "                print(self.idnumber) "
   ]
  },
  {
   "cell_type": "code",
   "execution_count": 38,
   "metadata": {},
   "outputs": [
    {
     "name": "stdout",
     "output_type": "stream",
     "text": [
      "<__main__.Student object at 0x110fd94a8> And has ID: 1\n"
     ]
    }
   ],
   "source": [
    "class Student(Person):\n",
    "    def __init__(self, student_id, *args, **kwargs):\n",
    "        super(Student, self).__init__(*args, **kwargs)\n",
    "        self._student_id = student_id\n",
    "        \n",
    "    def __str__(self):\n",
    "        return super(Student, self).__str__() + \" And has ID: %d\" % self._student_id\n",
    "    \n",
    "#     def __add__(self):\n",
    "#         retuen \n",
    "        \n",
    "charlie = Student(1, 'Charlie', 2006)\n",
    "print(charlie)\n"
   ]
  },
  {
   "cell_type": "markdown",
   "metadata": {},
   "source": [
    "We defined `__str__` again overriding the one wrote in Person, but we wanted to extend it, so we used super to achieve our goal."
   ]
  },
  {
   "cell_type": "markdown",
   "metadata": {},
   "source": [
    "https://www.geeksforgeeks.org/polymorphism-in-python/"
   ]
  },
  {
   "cell_type": "markdown",
   "metadata": {},
   "source": [
    "---"
   ]
  },
  {
   "cell_type": "markdown",
   "metadata": {},
   "source": [
    "# Data Abstraction & Encapsulation\n",
    "\n",
    "Encapsulation is the packing of data and functions operating on that data into a single component and restricting the access to some of the object’s components.\n",
    "Encapsulation means that the internal representation of an object is generally hidden from view outside of the object’s definition.\n",
    "\n",
    "A class is an example of encapsulation as it encapsulates all the data that is member functions,variables etc.\n",
    "\n",
    "> Difference between Abstraction and Encapsulation\n",
    "* **Abstraction is a mechanism which represent the essential features without including implementation details.**\n",
    "* Encapsulation: — Information hiding.\n",
    "* Abstraction: — Implementation hiding.\n"
   ]
  },
  {
   "cell_type": "markdown",
   "metadata": {},
   "source": [
    "### Data Abstraction\n",
    "\n",
    "Data abstraction refers to providing only essential information about the data to the outside world, hiding the background details or implementation.\n",
    "\n",
    "where as\n",
    "\n",
    "data encapsulation is one of the fundamentals of OOP (object-oriented programming). It refers to the bundling of data with the methods that operate on that data. Encapsulation is used to hide the values or state of a structured data object inside a class, preventing unauthorized parties' direct access to them.\n",
    "\n",
    "Abstraction and Encapsulation are two important Object Oriented Programming (OOPS) concepts. Encapsulation and Abstraction both are interrelated terms."
   ]
  },
  {
   "cell_type": "markdown",
   "metadata": {},
   "source": [
    "### Access Specifiers (public, private & protected)"
   ]
  },
  {
   "cell_type": "code",
   "execution_count": 39,
   "metadata": {
    "scrolled": true
   },
   "outputs": [
    {
     "name": "stdout",
     "output_type": "stream",
     "text": [
      "10\n",
      "20\n",
      "30\n"
     ]
    }
   ],
   "source": [
    "'''\n",
    "Python:\n",
    "public\n",
    "private _\n",
    "Strickly private __\n",
    "\n",
    "\n",
    "Other programming lang:\n",
    "default\n",
    "public\n",
    "private\n",
    "protected\n",
    "'''\n",
    "\n",
    "class A:\n",
    "    def __init__(self):\n",
    "        self.a=10\n",
    "        self._b=20\n",
    "        self.__c=30\n",
    "    def get_C(self):\n",
    "        print(self.__c)\n",
    "\n",
    "\n",
    "a = A()\n",
    "\n",
    "print(a.a)\n",
    "print(a._b)\n",
    "\n",
    "a.get_C()\n",
    "#print(a.__c)\n"
   ]
  },
  {
   "cell_type": "code",
   "execution_count": 40,
   "metadata": {},
   "outputs": [
    {
     "name": "stdout",
     "output_type": "stream",
     "text": [
      "10\n",
      "20\n",
      "30\n"
     ]
    }
   ],
   "source": [
    " class A:\n",
    "    def __init__(self):\n",
    "        self.a=10\n",
    "        self._b=20\n",
    "        self.__c=30\n",
    "        \n",
    "    def print_c(self):\n",
    "        return self.__c\n",
    "        \n",
    "a = A()\n",
    "\n",
    "print(a.a)\n",
    "print(a._b)\n",
    "print(a.print_c())"
   ]
  },
  {
   "cell_type": "markdown",
   "metadata": {},
   "source": [
    "Here the instance attributes shouldn't be accessible by the end user of an object as they are powerful mean of abstraction they should not reveal the internal implementation detail. In Python, there is no specific strict mechanism to protect object attributes but the official guidelines suggest that a variable that has an underscore prefix should be treated as 'Private'.\n",
    "\n",
    "Moreover prepending two underscores to a variable name makes the interpreter mangle a little the variable name."
   ]
  },
  {
   "cell_type": "code",
   "execution_count": 41,
   "metadata": {},
   "outputs": [
    {
     "name": "stdout",
     "output_type": "stream",
     "text": [
      "Alec\n",
      "Alec\n"
     ]
    }
   ],
   "source": [
    "\n",
    "class Person:\n",
    "    def __init__(self, name, surname, year_of_birth):\n",
    "        self._name = name\n",
    "        self._surname = surname\n",
    "        self._year_of_birth = year_of_birth\n",
    "    \n",
    "    def getName(self):\n",
    "        return self._name\n",
    "    \n",
    "    def age(self, current_year):\n",
    "        return current_year - self._year_of_birth\n",
    "    \n",
    "    def __str__(self):\n",
    "        return \"%s %s and was born %d.\" \\\n",
    "                % (self._name, self._surname, self._year_of_birth)\n",
    "    \n",
    "    \n",
    "    \n",
    "alec = Person(\"Alec\", \"Baldwin\", 1958)\n",
    "\n",
    "\n",
    "print(alec.getName())\n",
    "print(alec._name)\n",
    "# print(alec)\n",
    "# print(alec.age(2014))"
   ]
  },
  {
   "cell_type": "code",
   "execution_count": 42,
   "metadata": {
    "scrolled": true
   },
   "outputs": [
    {
     "name": "stdout",
     "output_type": "stream",
     "text": [
      "{'_Person__name': 'Alec', '_Person__year_of_birth': 1958, '_Person__surname': 'Baldwin'}\n",
      "dict_items([('_Person__name', 'Alec'), ('_Person__year_of_birth', 1958), ('_Person__surname', 'Baldwin')])\n",
      "dict_keys(['_Person__name', '_Person__year_of_birth', '_Person__surname'])\n",
      "dict_values(['Alec', 1958, 'Baldwin'])\n"
     ]
    }
   ],
   "source": [
    "class Person:\n",
    "    def __init__(self, name, surname, year_of_birth):\n",
    "        self.__name = name\n",
    "        self.__surname = surname\n",
    "        self.__year_of_birth = year_of_birth\n",
    "    \n",
    "    def age(self, current_year):\n",
    "        return current_year - self.__year_of_birth\n",
    "    \n",
    "    def __str__(self):\n",
    "        return \"%s %s and was born %d.\" \\\n",
    "                % (self.__name, self.__surname, self.__year_of_birth)\n",
    "    \n",
    "alec = Person(\"Alec\", \"Baldwin\", 1958)\n",
    "\n",
    "# print(alec.__name)\n",
    "print(alec.__dict__)\n",
    "print(alec.__dict__.items())\n",
    "print(alec.__dict__.keys())\n",
    "print(alec.__dict__.values())"
   ]
  },
  {
   "cell_type": "markdown",
   "metadata": {},
   "source": [
    "`__dict__` is a special attribute is a dictionary containing each attribute of an object. We can see that prepending two underscores every key has `_ClassName__` prepended."
   ]
  },
  {
   "cell_type": "markdown",
   "metadata": {},
   "source": [
    "#### There are two main reasons to use encapsulation\n",
    "\n",
    "Encapsulation is an another powerful way to extend a class which consists on wrapping an object with a second one:\n",
    "* Composition\n",
    "* Dynamic Extension"
   ]
  },
  {
   "cell_type": "markdown",
   "metadata": {},
   "source": [
    "### 3.1 Composition"
   ]
  },
  {
   "cell_type": "markdown",
   "metadata": {},
   "source": [
    "The abstraction process relies on creating a simplified model that remove useless details from a concept. In order to be simplified, a model should be described in terms of other simpler concepts.\n",
    "For example, we can say that a car is composed by:\n",
    "* Tyres\n",
    "* Engine\n",
    "* Body\n",
    "\n",
    "And break down each one of these elements in simpler parts until we reach primitive data."
   ]
  },
  {
   "cell_type": "code",
   "execution_count": 43,
   "metadata": {
    "scrolled": true
   },
   "outputs": [
    {
     "name": "stdout",
     "output_type": "stream",
     "text": [
      "Tyres: \n",
      " \tBranch: Pirelli\n",
      " \tBelted-bias: True\n",
      " \tOptimal pressure: 2.0\n",
      "Engine: \n",
      " \tFuel type: Diesel\n",
      " \tNoise level:3\n",
      "Body:\n",
      " \tSize: Medium\n"
     ]
    }
   ],
   "source": [
    "class Tyres:\n",
    "    def __init__(self, branch, belted_bias, opt_pressure):\n",
    "        self.branch = branch\n",
    "        self.belted_bias = belted_bias\n",
    "        self.opt_pressure = opt_pressure\n",
    "        \n",
    "    def __str__(self):\n",
    "        return (\"Tyres: \\n \\tBranch: \" + self.branch +\n",
    "               \"\\n \\tBelted-bias: \" + str(self.belted_bias) + \n",
    "               \"\\n \\tOptimal pressure: \" + str(self.opt_pressure))\n",
    "        \n",
    "class Engine:\n",
    "    def __init__(self, fuel_type, noise_level):\n",
    "        self.fuel_type = fuel_type\n",
    "        self.noise_level = noise_level\n",
    "        \n",
    "    def __str__(self):\n",
    "        return (\"Engine: \\n \\tFuel type: \" + self.fuel_type +\n",
    "                \"\\n \\tNoise level:\" + str(self.noise_level))\n",
    "        \n",
    "class Body:\n",
    "    def __init__(self, size):\n",
    "        self.size = size\n",
    "        \n",
    "    def __str__(self):\n",
    "        return \"Body:\\n \\tSize: \" + self.size\n",
    "        \n",
    "class Car:\n",
    "    def __init__(self, tyres, engine, body):\n",
    "        self.tyres = tyres\n",
    "        self.engine = engine\n",
    "        self.body = body\n",
    "    \n",
    "        \n",
    "    def __str__(self):\n",
    "        return str(self.tyres) + \"\\n\" + str(self.engine) + \"\\n\" + str(self.body)\n",
    "\n",
    "        \n",
    "t = Tyres('Pirelli', True, 2.0)\n",
    "e = Engine('Diesel', 3)\n",
    "b = Body('Medium')\n",
    "\n",
    "\n",
    "c = Car(t, e, b)\n",
    "print(c)"
   ]
  },
  {
   "cell_type": "markdown",
   "metadata": {},
   "source": [
    "### 3.2 Dynamic Extension (inheritance)"
   ]
  },
  {
   "cell_type": "markdown",
   "metadata": {},
   "source": [
    "Sometimes it's necessary to model a concept that may be a subclass of another one, but it isn't possible to know which class should be its superclass until runtime."
   ]
  },
  {
   "cell_type": "markdown",
   "metadata": {},
   "source": [
    "## How long does a class should be?"
   ]
  },
  {
   "cell_type": "markdown",
   "metadata": {},
   "source": [
    "There is an Object Oriented Programming (OOP) principle called Single Responsibility Principle (SRP) and it states: \"A class should have one single responsibility\" or \"A class should have only one reason to change\". \n",
    "\n",
    "If you come across a class which doesn't follow the SRP principle, you should spilt it. You will be grateful to SRP during your software maintenance. "
   ]
  },
  {
   "cell_type": "markdown",
   "metadata": {},
   "source": [
    "---"
   ]
  },
  {
   "cell_type": "markdown",
   "metadata": {},
   "source": [
    "# Class method vs Static method in Python"
   ]
  },
  {
   "cell_type": "markdown",
   "metadata": {},
   "source": [
    "## Class Method\n",
    "\n",
    "The @classmethod decorator, is a builtin function decorator that is an expression that gets evaluated after your function is defined. The result of that evaluation shadows your function definition.\n",
    "A class method receives the class as implicit first argument, just like an instance method receives the instance\n",
    "\n",
    "```\n",
    "Syntax:\n",
    "\n",
    "class C(object):\n",
    "    @classmethod\n",
    "    def fun(cls, arg1, arg2, ...):\n",
    "       ....\n",
    "```\n",
    "\n",
    "fun: function that needs to be converted into a class method\n",
    "returns: a class method for function.\n",
    "\n",
    "> ### About Class method \n",
    "* A class method is a method which is bound to the class and not the object of the class.\n",
    "* They have the access to the state of the class as it takes a class parameter that points to the class and not the object instance.\n",
    "* It can modify a class state that would apply across all the instances of the class. For example it can modify a class variable that will be applicable to all the instances.\n",
    "\n",
    "\n",
    "## Static Method\n",
    "\n",
    "A static method does not receive an implicit first argument.\n",
    "\n",
    "```\n",
    "Syntax:\n",
    "\n",
    "class C(object):\n",
    "    @staticmethod\n",
    "    def fun(arg1, arg2, ...):\n",
    "        ...\n",
    "```\n",
    "\n",
    "returns: a static method for function fun.\n",
    "\n",
    "> ### About Static method\n",
    "* A static method is also a method which is bound to the class and not the object of the class.\n",
    "* A static method can’t access or modify class state.\n",
    "* It is present in a class because it makes sense for the method to be present in class.\n",
    "\n",
    "\n",
    "> ### Class method vs Static Method\n",
    "* A class method takes cls as first parameter while a static method needs no specific parameters.\n",
    "* A class method can access or modify class state while a static method can’t access or modify it.\n",
    "* In general, static methods know nothing about class state. They are utility type methods that take some parameters and work upon those parameters. On the other hand class methods must have class as parameter.\n",
    "* We use @classmethod decorator in python to create a class method and we use @staticmethod decorator to create a static method in python.\n",
    "\n",
    "\n",
    "> ### When to use what?\n",
    "* We generally use class method to create factory methods. Factory methods return class object ( similar to a constructor ) for different use cases.\n",
    "* We generally use static methods to create utility functions.\n",
    "\n",
    "### Implementation"
   ]
  },
  {
   "cell_type": "code",
   "execution_count": 44,
   "metadata": {},
   "outputs": [
    {
     "name": "stdout",
     "output_type": "stream",
     "text": [
      "21\n",
      "23\n",
      "True\n"
     ]
    }
   ],
   "source": [
    "# Python program to demonstrate  \n",
    "# use of class method and static method. \n",
    "from datetime import date \n",
    "  \n",
    "class Person: \n",
    "    def __init__(self, name, age): \n",
    "        self.name = name \n",
    "        self.age = age \n",
    "      \n",
    "    # a class method to create a Person object by birth year. \n",
    "    @classmethod\n",
    "    def fromBirthYear(cls, name, year): \n",
    "        return cls(name, date.today().year - year) \n",
    "      \n",
    "    # a static method to check if a Person is adult or not. \n",
    "    @staticmethod\n",
    "    def isAdult(age): \n",
    "        return age > 18\n",
    "  \n",
    "person1 = Person('mayank', 21) \n",
    "person2 = Person.fromBirthYear('mayank', 1996) \n",
    "  \n",
    "print(person1.age)\n",
    "print(person2.age)\n",
    "  \n",
    "# print the result \n",
    "print(Person.isAdult(22)) "
   ]
  },
  {
   "cell_type": "markdown",
   "metadata": {},
   "source": [
    "# Static variable\n",
    "\n",
    "The Python approach is simple, it doesn’t require a static keyword. All variables which are assigned a value in class declaration are class variables. And variables which are assigned values inside class methods are instance variables."
   ]
  },
  {
   "cell_type": "code",
   "execution_count": 45,
   "metadata": {},
   "outputs": [
    {
     "name": "stdout",
     "output_type": "stream",
     "text": [
      "cse\n",
      "cse\n",
      "Geek\n",
      "Nerd\n",
      "1\n",
      "2\n",
      "cse\n"
     ]
    }
   ],
   "source": [
    "# Python program to show that the variables with a value  \n",
    "# assigned in class declaration, are class variables \n",
    "  \n",
    "# Class for Computer Science Student \n",
    "class CSStudent: \n",
    "    stream = 'cse'                  # Class Variable \n",
    "    def __init__(self,name,roll): \n",
    "        self.name = name            # Instance Variable \n",
    "        self.roll = roll            # Instance Variable \n",
    "  \n",
    "# Objects of CSStudent class \n",
    "a = CSStudent('Geek', 1) \n",
    "b = CSStudent('Nerd', 2) \n",
    "  \n",
    "print(a.stream)  # prints \"cse\" \n",
    "print(b.stream)  # prints \"cse\" \n",
    "print(a.name)    # prints \"Geek\" \n",
    "print(b.name)    # prints \"Nerd\" \n",
    "print(a.roll)    # prints \"1\" \n",
    "print(b.roll)    # prints \"2\" \n",
    "  \n",
    "# Class variables can be accessed using class \n",
    "# name also \n",
    "print(CSStudent.stream) # prints \"cse\" "
   ]
  },
  {
   "cell_type": "markdown",
   "metadata": {},
   "source": [
    "# Abstract class"
   ]
  },
  {
   "cell_type": "markdown",
   "metadata": {},
   "source": [
    "https://www.geeksforgeeks.org/abstract-classes-in-python/"
   ]
  },
  {
   "cell_type": "markdown",
   "metadata": {},
   "source": [
    "---"
   ]
  },
  {
   "cell_type": "markdown",
   "metadata": {},
   "source": [
    "# Monkey Patching in Python (Dynamic Behavior)\n",
    "In Python, the term monkey patch refers to dynamic (or run-time) modifications of a class or module. In Python, we can actually change the behavior of code at run-time.\n"
   ]
  },
  {
   "cell_type": "code",
   "execution_count": 46,
   "metadata": {},
   "outputs": [],
   "source": [
    "\n",
    "# monk.py \n",
    "class A: \n",
    "     def func(self):\n",
    "            print(\"func() is being called\")\n",
    "# We use above module (monk) in below code and change behavior of func() at run-time by assigning different value.\n"
   ]
  },
  {
   "cell_type": "code",
   "execution_count": 47,
   "metadata": {},
   "outputs": [
    {
     "name": "stdout",
     "output_type": "stream",
     "text": [
      "monkey_f() is being called\n"
     ]
    }
   ],
   "source": [
    "\n",
    "# import monk \n",
    "def monkey_f(self): \n",
    "     print(\"monkey_f() is being called\")\n",
    "   \n",
    "# replacing address of \"func\" with \"monkey_f\" \n",
    "# monk.A.func = monkey_f \n",
    "A.func = monkey_f \n",
    "# obj = monk.A() \n",
    "obj = A() \n",
    "  \n",
    "# calling function \"func\" whose address got replaced \n",
    "# with function \"monkey_f()\" \n",
    "obj.func()"
   ]
  },
  {
   "cell_type": "markdown",
   "metadata": {},
   "source": [
    "# Python Decorators\n",
    "A decorator takes in a function, adds some functionality and returns it. In this article, you will learn how you can create a decorator and why you should use it."
   ]
  },
  {
   "cell_type": "code",
   "execution_count": 48,
   "metadata": {},
   "outputs": [],
   "source": [
    "# Code:\n",
    "\n",
    "from functools import wraps\n",
    "from time import time\n",
    "\n",
    "\n",
    "def timing(f):\n",
    "    def wrapper(*args, **kwargs):\n",
    "        start = time()\n",
    "        result = f(*args, **kwargs)\n",
    "        end = time()\n",
    "        print('Elapsed time: {}'.format(end-start))\n",
    "        return result\n",
    "    return wrapper"
   ]
  },
  {
   "cell_type": "code",
   "execution_count": 49,
   "metadata": {},
   "outputs": [
    {
     "name": "stdout",
     "output_type": "stream",
     "text": [
      "Elapsed time: 0.05802488327026367\n"
     ]
    }
   ],
   "source": [
    "# def f(a):\n",
    "#     st = time.time()\n",
    "#     for _ in range(a):\n",
    "#         pass\n",
    "#     print(time.time()-st)\n",
    "\n",
    "# Usage:\n",
    "@timing\n",
    "def f(a):\n",
    "    for _ in range(a):\n",
    "        pass\n",
    "\n",
    "f(2000000) #in ms"
   ]
  },
  {
   "cell_type": "markdown",
   "metadata": {},
   "source": [
    "---"
   ]
  },
  {
   "cell_type": "markdown",
   "metadata": {},
   "source": [
    "# Files\n",
    "\n",
    "Python uses file objects to interact with the external files on your computer. These file objects cab be of any file format on your computer i.e. can be an audio file, a text file, emails, Excel documents, etc. Note that You will probably need to install certain libraries or modules to interact with those various file types, but they are easily available. (We will cover downloading modules later on in the course).\n",
    "\n",
    "Python has a built-in open function that allows us to open and play with basic file types. First we will need a file though. We're going to use some iPython magic to create a text file!\n",
    "\n",
    "## iPython Writing a File"
   ]
  },
  {
   "cell_type": "code",
   "execution_count": 50,
   "metadata": {},
   "outputs": [
    {
     "name": "stdout",
     "output_type": "stream",
     "text": [
      "Writing test.txt\n"
     ]
    }
   ],
   "source": [
    "%%writefile test.txt\n",
    "line1 Hello, this is a quick test file\n",
    "line2 Hello, this is a quick test file"
   ]
  },
  {
   "cell_type": "markdown",
   "metadata": {},
   "source": [
    "## Python Opening a file\n",
    "\n",
    "We can open a file with the open() function. This function also takes in arguments (also called parameters). Let's see how this is used:"
   ]
  },
  {
   "cell_type": "markdown",
   "metadata": {},
   "source": [
    "* \"r\" - Read - Default value. Opens a file for reading, error if the file does not exist\n",
    "\n",
    "* \"a\" - Append - Opens a file for appending, creates the file if it does not exist\n",
    "\n",
    "* \"w\" - Write - Opens a file for writing, creates the file if it does not exist\n",
    "\n",
    "* \"x\" - Create - Creates the specified file, returns an error if the file exists"
   ]
  },
  {
   "cell_type": "code",
   "execution_count": 51,
   "metadata": {},
   "outputs": [
    {
     "name": "stdout",
     "output_type": "stream",
     "text": [
      "line1 Hello, this is a quick test file\n",
      "line2 Hello, this is a quick test file\n",
      "\n"
     ]
    }
   ],
   "source": [
    "# Open the text.txt we made earlier\n",
    "my_file = open('test.txt', 'r')\n",
    "print(my_file.read())"
   ]
  },
  {
   "cell_type": "code",
   "execution_count": 52,
   "metadata": {},
   "outputs": [
    {
     "name": "stdout",
     "output_type": "stream",
     "text": [
      "\n"
     ]
    }
   ],
   "source": [
    "# We can now read the file\n",
    "print(my_file.read())"
   ]
  },
  {
   "cell_type": "code",
   "execution_count": 53,
   "metadata": {},
   "outputs": [
    {
     "data": {
      "text/plain": [
       "'line1 Hello, this is a quick test file\\nline2 Hello, this is a quick test file\\n'"
      ]
     },
     "execution_count": 53,
     "metadata": {},
     "output_type": "execute_result"
    }
   ],
   "source": [
    "# But what happens if we try to read it again?\n",
    "\n",
    "my_file.seek(0)\n",
    "my_file.read()"
   ]
  },
  {
   "cell_type": "markdown",
   "metadata": {},
   "source": [
    "This happens because you can imagine the reading \"cursor\" is at the end of the file after having read it. So there is nothing left to read. We can reset the \"cursor\" like this:"
   ]
  },
  {
   "cell_type": "code",
   "execution_count": 54,
   "metadata": {},
   "outputs": [
    {
     "data": {
      "text/plain": [
       "0"
      ]
     },
     "execution_count": 54,
     "metadata": {},
     "output_type": "execute_result"
    }
   ],
   "source": [
    "# Seek to the start of file (index 0)\n",
    "my_file.seek(0)"
   ]
  },
  {
   "cell_type": "code",
   "execution_count": 55,
   "metadata": {},
   "outputs": [
    {
     "data": {
      "text/plain": [
       "'line1 Hello, this is a quick test file\\nline2 Hello, this is a quick test file\\n'"
      ]
     },
     "execution_count": 55,
     "metadata": {},
     "output_type": "execute_result"
    }
   ],
   "source": [
    "# Now read again\n",
    "my_file.read()"
   ]
  },
  {
   "cell_type": "markdown",
   "metadata": {},
   "source": [
    "In order to not have to reset every time, we can also use the readlines method. Use caution with large files, since everything will be held in memory. We will learn how to iterate over large files later in the course."
   ]
  },
  {
   "cell_type": "code",
   "execution_count": 56,
   "metadata": {},
   "outputs": [
    {
     "data": {
      "text/plain": [
       "0"
      ]
     },
     "execution_count": 56,
     "metadata": {},
     "output_type": "execute_result"
    }
   ],
   "source": [
    "# Seek to the start of file (index 0)\n",
    "my_file.seek(0)"
   ]
  },
  {
   "cell_type": "code",
   "execution_count": 57,
   "metadata": {},
   "outputs": [
    {
     "data": {
      "text/plain": [
       "['line1 Hello, this is a quick test file\\n',\n",
       " 'line2 Hello, this is a quick test file\\n']"
      ]
     },
     "execution_count": 57,
     "metadata": {},
     "output_type": "execute_result"
    }
   ],
   "source": [
    "# Readlines returns a list of the lines in the file.\n",
    "my_file.readlines()"
   ]
  },
  {
   "cell_type": "code",
   "execution_count": 58,
   "metadata": {},
   "outputs": [
    {
     "data": {
      "text/plain": [
       "'line1 Hello, this is a quick test file\\nline2 Hello, this is a quick test file\\n'"
      ]
     },
     "execution_count": 58,
     "metadata": {},
     "output_type": "execute_result"
    }
   ],
   "source": [
    "# Python code to illustrate with() \n",
    "with open(\"test.txt\") as file:   \n",
    "    data = file.read()\n",
    "    #data = file.readlines() \n",
    "\n",
    "data"
   ]
  },
  {
   "cell_type": "markdown",
   "metadata": {},
   "source": [
    "## Writing to a File\n",
    "\n",
    "By default, using the open() function will only allow us to read the file, we need to pass the argument 'w' to write over the file. For example:"
   ]
  },
  {
   "cell_type": "code",
   "execution_count": 59,
   "metadata": {},
   "outputs": [],
   "source": [
    "# Add the second argument to the function, 'w' which stands for write\n",
    "my_file = open('test.txt','a+')"
   ]
  },
  {
   "cell_type": "code",
   "execution_count": 60,
   "metadata": {},
   "outputs": [
    {
     "data": {
      "text/plain": [
       "18"
      ]
     },
     "execution_count": 60,
     "metadata": {},
     "output_type": "execute_result"
    }
   ],
   "source": [
    "# Write to the file\n",
    "my_file.write('This is a new line')"
   ]
  },
  {
   "cell_type": "code",
   "execution_count": 61,
   "metadata": {},
   "outputs": [
    {
     "data": {
      "text/plain": [
       "0"
      ]
     },
     "execution_count": 61,
     "metadata": {},
     "output_type": "execute_result"
    }
   ],
   "source": [
    "# Seek to the start of file (index 0)\n",
    "my_file.seek(0)"
   ]
  },
  {
   "cell_type": "code",
   "execution_count": 62,
   "metadata": {},
   "outputs": [
    {
     "data": {
      "text/plain": [
       "'line1 Hello, this is a quick test file\\nline2 Hello, this is a quick test file\\nThis is a new line'"
      ]
     },
     "execution_count": 62,
     "metadata": {},
     "output_type": "execute_result"
    }
   ],
   "source": [
    "# Read the file\n",
    "my_file.read()"
   ]
  },
  {
   "cell_type": "markdown",
   "metadata": {},
   "source": [
    "## Iterating through a File\n",
    "\n",
    "Let's get a quick preview of a for loop by iterating over a text file. First, let's make a new text file with some iPython Magic:"
   ]
  },
  {
   "cell_type": "code",
   "execution_count": 63,
   "metadata": {},
   "outputs": [
    {
     "name": "stdout",
     "output_type": "stream",
     "text": [
      "Overwriting test.txt\n"
     ]
    }
   ],
   "source": [
    "%%writefile test.txt\n",
    "First Line\n",
    "Second Line"
   ]
  },
  {
   "cell_type": "markdown",
   "metadata": {},
   "source": [
    "Now we can use a little bit of flow to tell the program to for through every line of the file and do something:"
   ]
  },
  {
   "cell_type": "code",
   "execution_count": 64,
   "metadata": {},
   "outputs": [
    {
     "name": "stdout",
     "output_type": "stream",
     "text": [
      "First Line\n",
      "\n",
      "Second Line\n",
      "\n"
     ]
    }
   ],
   "source": [
    "obj = open('test.txt')\n",
    "for line in obj:\n",
    "    print(line)\n",
    "    \n",
    "    \n",
    "obj.close()"
   ]
  },
  {
   "cell_type": "code",
   "execution_count": 65,
   "metadata": {},
   "outputs": [
    {
     "name": "stdout",
     "output_type": "stream",
     "text": [
      "First Line\n",
      "\n",
      "Second Line\n",
      "\n"
     ]
    }
   ],
   "source": [
    "# Pertaining to the first point above\n",
    "for asdf in open('test.txt'):\n",
    "    print(asdf)"
   ]
  },
  {
   "cell_type": "code",
   "execution_count": 66,
   "metadata": {},
   "outputs": [
    {
     "name": "stdout",
     "output_type": "stream",
     "text": [
      "First Line\n",
      "Second Line\n",
      "\n"
     ]
    }
   ],
   "source": [
    "with open('test.txt') as obj:\n",
    "    print(obj.read())"
   ]
  },
  {
   "cell_type": "markdown",
   "metadata": {},
   "source": [
    "# StringIO \n",
    "\n",
    "The StringIO module implements an in-memory filelike object. This object can then be used as input or output to most functions that would expect a standard file object.\n",
    "\n",
    "The best way to show this is by example:"
   ]
  },
  {
   "cell_type": "code",
   "execution_count": 67,
   "metadata": {},
   "outputs": [],
   "source": [
    "from io import StringIO\n"
   ]
  },
  {
   "cell_type": "code",
   "execution_count": 68,
   "metadata": {},
   "outputs": [],
   "source": [
    "# Arbitrary String\n",
    "message = 'This is just a normal string.'"
   ]
  },
  {
   "cell_type": "code",
   "execution_count": 69,
   "metadata": {},
   "outputs": [],
   "source": [
    "# Use StringIO method to set as file object\n",
    "# f = open('text.txt')\n",
    "# f.write(message)\n",
    "\n",
    "\n",
    "f = StringIO(message)"
   ]
  },
  {
   "cell_type": "markdown",
   "metadata": {},
   "source": [
    "Now we have an object *f* that we will be able to treat just like a file. For example:"
   ]
  },
  {
   "cell_type": "code",
   "execution_count": 70,
   "metadata": {},
   "outputs": [
    {
     "data": {
      "text/plain": [
       "'This is just a normal string.'"
      ]
     },
     "execution_count": 70,
     "metadata": {},
     "output_type": "execute_result"
    }
   ],
   "source": [
    "f.read()"
   ]
  },
  {
   "cell_type": "markdown",
   "metadata": {},
   "source": [
    "We can also write to it"
   ]
  },
  {
   "cell_type": "code",
   "execution_count": 71,
   "metadata": {},
   "outputs": [
    {
     "data": {
      "text/plain": [
       "40"
      ]
     },
     "execution_count": 71,
     "metadata": {},
     "output_type": "execute_result"
    }
   ],
   "source": [
    "f.write(' Second line written to file like object')"
   ]
  },
  {
   "cell_type": "code",
   "execution_count": 72,
   "metadata": {},
   "outputs": [
    {
     "data": {
      "text/plain": [
       "0"
      ]
     },
     "execution_count": 72,
     "metadata": {},
     "output_type": "execute_result"
    }
   ],
   "source": [
    "# Reset cursor just like you would a file\n",
    "f.seek(0)"
   ]
  },
  {
   "cell_type": "code",
   "execution_count": 73,
   "metadata": {},
   "outputs": [
    {
     "data": {
      "text/plain": [
       "'This is just a normal string. Second line written to file like object'"
      ]
     },
     "execution_count": 73,
     "metadata": {},
     "output_type": "execute_result"
    }
   ],
   "source": [
    "# Read again\n",
    "f.read()"
   ]
  },
  {
   "cell_type": "markdown",
   "metadata": {},
   "source": [
    "# Other"
   ]
  },
  {
   "cell_type": "code",
   "execution_count": 74,
   "metadata": {},
   "outputs": [
    {
     "data": {
      "text/plain": [
       "4"
      ]
     },
     "execution_count": 74,
     "metadata": {},
     "output_type": "execute_result"
    }
   ],
   "source": [
    "class A:\n",
    "    def f(self):\n",
    "        return 4\n",
    "    \n",
    "class D(A):\n",
    "    def __init__(self):\n",
    "        self.a = self.f\n",
    "        \n",
    "    def f2(self):\n",
    "        return self.f()\n",
    "        \n",
    "obj_d= D()\n",
    "\n",
    "obj_d.f2()\n",
    "    \n",
    "    "
   ]
  },
  {
   "cell_type": "code",
   "execution_count": null,
   "metadata": {},
   "outputs": [],
   "source": []
  }
 ],
 "metadata": {
  "kernelspec": {
   "display_name": "Python 3",
   "language": "python",
   "name": "python3"
  },
  "language_info": {
   "codemirror_mode": {
    "name": "ipython",
    "version": 3
   },
   "file_extension": ".py",
   "mimetype": "text/x-python",
   "name": "python",
   "nbconvert_exporter": "python",
   "pygments_lexer": "ipython3",
   "version": "3.5.4"
  }
 },
 "nbformat": 4,
 "nbformat_minor": 2
}
