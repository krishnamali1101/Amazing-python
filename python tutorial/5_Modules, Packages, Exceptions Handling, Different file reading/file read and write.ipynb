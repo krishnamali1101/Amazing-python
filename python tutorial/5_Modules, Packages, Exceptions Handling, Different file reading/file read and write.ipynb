{
 "cells": [
  {
   "cell_type": "markdown",
   "metadata": {},
   "source": [
    "# txt"
   ]
  },
  {
   "cell_type": "code",
   "execution_count": 37,
   "metadata": {},
   "outputs": [],
   "source": [
    "with open('example.txt', 'w') as fp:\n",
    "    fp.write(\"test file\\n\")\n",
    "    for line in [\"line 1\\n\", \"line 2\\n\"]:\n",
    "        fp.writelines(line)\n",
    "        "
   ]
  },
  {
   "cell_type": "code",
   "execution_count": 38,
   "metadata": {
    "scrolled": true
   },
   "outputs": [
    {
     "name": "stdout",
     "output_type": "stream",
     "text": [
      "test file\n",
      "line 1\n",
      "line 2\n",
      "\n"
     ]
    }
   ],
   "source": [
    "with open('example.txt', 'r') as fp:\n",
    "    print(fp.read())\n"
   ]
  },
  {
   "cell_type": "code",
   "execution_count": 39,
   "metadata": {},
   "outputs": [
    {
     "name": "stdout",
     "output_type": "stream",
     "text": [
      "test file\n",
      "\n",
      "line 1\n",
      "\n",
      "line 2\n",
      "\n"
     ]
    }
   ],
   "source": [
    "with open('example.txt', 'r') as fp:\n",
    "    for line in fp.readlines():\n",
    "        print(line)"
   ]
  },
  {
   "cell_type": "markdown",
   "metadata": {},
   "source": [
    "# read and write json"
   ]
  },
  {
   "cell_type": "code",
   "execution_count": 40,
   "metadata": {},
   "outputs": [
    {
     "name": "stdout",
     "output_type": "stream",
     "text": [
      "{'people': [{'website': 'stackabuse.com (http://stackabuse.com)', 'from': 'Nebraska', 'name': 'Scott'}, {'website': 'google.com (http://google.com)', 'from': 'Michigan', 'name': 'Larry'}, {'website': 'apple.com (http://apple.com)', 'from': 'Alabama', 'name': 'Tim'}]}\n"
     ]
    }
   ],
   "source": [
    "import json\n",
    "\n",
    "data = {}\n",
    "\n",
    "#data= {key:[{}], key2:[{}]}\n",
    "\n",
    "data['people'] = []\n",
    "data['people'].append({\n",
    " 'name': 'Scott',\n",
    " 'website': 'stackabuse.com (http://stackabuse.com)',\n",
    " 'from': 'Nebraska'\n",
    "})\n",
    "\n",
    "data['people'].append({\n",
    " 'name': 'Larry',\n",
    " 'website': 'google.com (http://google.com)',\n",
    " 'from': 'Michigan'\n",
    "})\n",
    "\n",
    "data['people'].append({\n",
    " 'name': 'Tim',\n",
    " 'website': 'apple.com (http://apple.com)',\n",
    " 'from': 'Alabama'\n",
    "})\n",
    "\n",
    "print(data)\n",
    "\n",
    "\n",
    "with open('data.json', 'w') as outfile:\n",
    "    json.dump(data, outfile)"
   ]
  },
  {
   "cell_type": "code",
   "execution_count": 43,
   "metadata": {},
   "outputs": [
    {
     "name": "stdout",
     "output_type": "stream",
     "text": [
      "Name: Scott\n",
      "Website: stackabuse.com (http://stackabuse.com)\n",
      "From: Nebraska\n",
      "\n",
      "Name: Larry\n",
      "Website: google.com (http://google.com)\n",
      "From: Michigan\n",
      "\n",
      "Name: Tim\n",
      "Website: apple.com (http://apple.com)\n",
      "From: Alabama\n",
      "\n"
     ]
    }
   ],
   "source": [
    "import json\n",
    "with open('data.json') as json_file:\n",
    "    data = json.load(json_file)\n",
    "    for p in data['people']:\n",
    "        print('Name: ' + p['name'])\n",
    "        print('Website: ' + p['website'])\n",
    "        print('From: ' + p['from'])\n",
    "        print('')"
   ]
  },
  {
   "cell_type": "markdown",
   "metadata": {},
   "source": [
    "# Using pandas"
   ]
  },
  {
   "cell_type": "code",
   "execution_count": 46,
   "metadata": {},
   "outputs": [
    {
     "data": {
      "text/html": [
       "<div>\n",
       "<style scoped>\n",
       "    .dataframe tbody tr th:only-of-type {\n",
       "        vertical-align: middle;\n",
       "    }\n",
       "\n",
       "    .dataframe tbody tr th {\n",
       "        vertical-align: top;\n",
       "    }\n",
       "\n",
       "    .dataframe thead th {\n",
       "        text-align: right;\n",
       "    }\n",
       "</style>\n",
       "<table border=\"1\" class=\"dataframe\">\n",
       "  <thead>\n",
       "    <tr style=\"text-align: right;\">\n",
       "      <th></th>\n",
       "      <th>category</th>\n",
       "      <th>datetime</th>\n",
       "      <th>integer</th>\n",
       "    </tr>\n",
       "  </thead>\n",
       "  <tbody>\n",
       "    <tr>\n",
       "      <th>0</th>\n",
       "      <td>0</td>\n",
       "      <td>2015-01-01 00:00:00</td>\n",
       "      <td>5</td>\n",
       "    </tr>\n",
       "    <tr>\n",
       "      <th>1</th>\n",
       "      <td>0</td>\n",
       "      <td>2015-01-01 00:00:01</td>\n",
       "      <td>5</td>\n",
       "    </tr>\n",
       "    <tr>\n",
       "      <th>10</th>\n",
       "      <td>0</td>\n",
       "      <td>2015-01-01 00:00:10</td>\n",
       "      <td>5</td>\n",
       "    </tr>\n",
       "    <tr>\n",
       "      <th>11</th>\n",
       "      <td>0</td>\n",
       "      <td>2015-01-01 00:00:11</td>\n",
       "      <td>5</td>\n",
       "    </tr>\n",
       "    <tr>\n",
       "      <th>12</th>\n",
       "      <td>0</td>\n",
       "      <td>2015-01-01 00:00:12</td>\n",
       "      <td>8</td>\n",
       "    </tr>\n",
       "  </tbody>\n",
       "</table>\n",
       "</div>"
      ],
      "text/plain": [
       "    category            datetime  integer\n",
       "0          0 2015-01-01 00:00:00        5\n",
       "1          0 2015-01-01 00:00:01        5\n",
       "10         0 2015-01-01 00:00:10        5\n",
       "11         0 2015-01-01 00:00:11        5\n",
       "12         0 2015-01-01 00:00:12        8"
      ]
     },
     "execution_count": 46,
     "metadata": {},
     "output_type": "execute_result"
    }
   ],
   "source": [
    "import pandas as pd \n",
    "## Create URL to JSON file (alternatively this can be a filepath) \n",
    "url = 'https://raw.githubusercontent.com/chrisalbon/simulated_datasets/master/data.json'\n",
    "\n",
    "\n",
    "# Load library import pandas as pd\n",
    "\n",
    "# Load the first sheet of the JSON file into a data frame \n",
    "df = pd.read_json(url, orient='columns')\n",
    "\n",
    "# View the first ten rows \n",
    "df.head()"
   ]
  },
  {
   "cell_type": "markdown",
   "metadata": {},
   "source": [
    "# CSV"
   ]
  },
  {
   "cell_type": "code",
   "execution_count": 47,
   "metadata": {},
   "outputs": [
    {
     "name": "stdout",
     "output_type": "stream",
     "text": [
      "Writing complete\n"
     ]
    }
   ],
   "source": [
    "\n",
    "import csv\n",
    "myData = [[\"first_name\", \"second_name\", \"Grade\"],\n",
    "            ['Alex', 'Brian', 'A'],\n",
    "            ['Tom', 'Smith', 'B']]\n",
    "myFile = open('example.csv', 'w')\n",
    "with myFile:\n",
    "    writer = csv.writer(myFile)\n",
    "    writer.writerows(myData)\n",
    "    print(\"Writing complete\")"
   ]
  },
  {
   "cell_type": "code",
   "execution_count": 48,
   "metadata": {},
   "outputs": [
    {
     "name": "stdout",
     "output_type": "stream",
     "text": [
      "['first_name', 'second_name', 'Grade']\n",
      "['Alex', 'Brian', 'A']\n",
      "['Tom', 'Smith', 'B']\n"
     ]
    }
   ],
   "source": [
    "myFile = open('example.csv', 'r')\n",
    "with myFile:\n",
    "    data = csv.reader(myFile)\n",
    "    for row in data:\n",
    "        print(row)"
   ]
  },
  {
   "cell_type": "markdown",
   "metadata": {},
   "source": [
    "# XML"
   ]
  },
  {
   "cell_type": "code",
   "execution_count": 6,
   "metadata": {},
   "outputs": [],
   "source": [
    " <data>\n",
    "     <items>\n",
    "         <item name=\"item1\">item1abc</item>\n",
    "         <item name=\"item2\" value = \"\">item2abc</item>\n",
    "     </items>\n",
    "</data>"
   ]
  },
  {
   "cell_type": "code",
   "execution_count": 49,
   "metadata": {},
   "outputs": [
    {
     "name": "stdout",
     "output_type": "stream",
     "text": [
      "Item #2 attribute:\n",
      "item2\n",
      "\n",
      "All attributes:\n",
      "item1\n",
      "item2\n",
      "\n",
      "Item #2 data:\n",
      "item2abc\n",
      "item2abc\n",
      "\n",
      "All item data:\n",
      "item1abc\n",
      "item2abc\n"
     ]
    }
   ],
   "source": [
    "from xml.dom import minidom\n",
    "# parse an xml file by name\n",
    "mydoc = minidom.parse('items.xml')\n",
    "items = mydoc.getElementsByTagName('item')\n",
    "\n",
    "# one specific item attribute\n",
    "print('Item #2 attribute:')\n",
    "print(items[1].attributes['name'].value)\n",
    "\n",
    "# all item attributes\n",
    "print('\\nAll attributes:')\n",
    "for elem in items:\n",
    "    print(elem.attributes['name'].value)\n",
    "    \n",
    "# one specific item's data\n",
    "print('\\nItem #2 data:')\n",
    "print(items[1].firstChild.data)\n",
    "print(items[1].childNodes[0].data)\n",
    "\n",
    "# all items data\n",
    "print('\\nAll item data:')\n",
    "for elem in items:\n",
    "    print(elem.firstChild.data)"
   ]
  },
  {
   "cell_type": "markdown",
   "metadata": {},
   "source": [
    "# HTML "
   ]
  },
  {
   "cell_type": "code",
   "execution_count": 20,
   "metadata": {},
   "outputs": [
    {
     "name": "stdout",
     "output_type": "stream",
     "text": [
      "Requirement already satisfied: beautifulsoup4 in /Library/Frameworks/Python.framework/Versions/3.5/lib/python3.5/site-packages (4.8.0)\n",
      "Requirement already satisfied: urllib5 in /Library/Frameworks/Python.framework/Versions/3.5/lib/python3.5/site-packages (5.0.0)\n",
      "Requirement already satisfied: soupsieve>=1.2 in /Library/Frameworks/Python.framework/Versions/3.5/lib/python3.5/site-packages (from beautifulsoup4) (1.9.2)\n"
     ]
    }
   ],
   "source": [
    "!pip install beautifulsoup4 urllib5"
   ]
  },
  {
   "cell_type": "code",
   "execution_count": 16,
   "metadata": {},
   "outputs": [
    {
     "name": "stdout",
     "output_type": "stream",
     "text": [
      "<html>\n",
      " <head>\n",
      "  <title>\n",
      "   The Dormouse's story\n",
      "  </title>\n",
      " </head>\n",
      " <body>\n",
      "  <p class=\"title\">\n",
      "   <b>\n",
      "    The Dormouse's story\n",
      "   </b>\n",
      "  </p>\n",
      "  <p class=\"story\">\n",
      "   Once upon a time there were three little sisters; and their names were\n",
      "   <a class=\"sister\" href=\"http://example.com/elsie\" id=\"link1\">\n",
      "    Elsie\n",
      "   </a>\n",
      "   ,\n",
      "   <a class=\"sister\" href=\"http://example.com/lacie\" id=\"link2\">\n",
      "    Lacie\n",
      "   </a>\n",
      "   and\n",
      "   <a class=\"sister\" href=\"http://example.com/tillie\" id=\"link2\">\n",
      "    Tillie\n",
      "   </a>\n",
      "   ; and they lived at the bottom of a well.\n",
      "  </p>\n",
      "  <p class=\"story\">\n",
      "   ...\n",
      "  </p>\n",
      " </body>\n",
      "</html>\n",
      "\n"
     ]
    }
   ],
   "source": [
    "from bs4 import BeautifulSoup\n",
    "\n",
    "with open(\"test.html\") as fp:\n",
    "    html_doc = fp.read()\n",
    "    \n",
    "soup = BeautifulSoup(html_doc, 'html.parser')\n",
    "\n",
    "print(soup.prettify())\n",
    "# <html>\n",
    "#  <head>\n",
    "#   <title>\n",
    "#    The Dormouse's story\n",
    "#   </title>\n",
    "#  </head>\n",
    "#  <body>\n",
    "#   <p class=\"title\">\n",
    "#    <b>\n",
    "#     The Dormouse's story\n",
    "#    </b>\n",
    "#   </p>\n",
    "#   <p class=\"story\">\n",
    "#    Once upon a time there were three little sisters; and their names were\n",
    "#    <a class=\"sister\" href=\"http://example.com/elsie\" id=\"link1\">\n",
    "#     Elsie\n",
    "#    </a>\n",
    "#    ,\n",
    "#    <a class=\"sister\" href=\"http://example.com/lacie\" id=\"link2\">\n",
    "#     Lacie\n",
    "#    </a>\n",
    "#    and\n",
    "#    <a class=\"sister\" href=\"http://example.com/tillie\" id=\"link2\">\n",
    "#     Tillie\n",
    "#    </a>\n",
    "#    ; and they lived at the bottom of a well.\n",
    "#   </p>\n",
    "#   <p class=\"story\">\n",
    "#    ...\n",
    "#   </p>\n",
    "#  </body>\n",
    "# </html>"
   ]
  },
  {
   "cell_type": "code",
   "execution_count": 19,
   "metadata": {
    "scrolled": true
   },
   "outputs": [
    {
     "name": "stdout",
     "output_type": "stream",
     "text": [
      "<title>\n",
      "   The Dormouse's story\n",
      "  </title>\n",
      "title\n",
      "\n",
      "   The Dormouse's story\n",
      "  \n",
      "head\n",
      "<p class=\"title\">\n",
      "<b>\n",
      "    The Dormouse's story\n",
      "   </b>\n",
      "</p>\n",
      "['title']\n",
      "<a class=\"sister\" href=\"http://example.com/elsie\" id=\"link1\">\n",
      "    Elsie\n",
      "   </a>\n",
      "[<a class=\"sister\" href=\"http://example.com/elsie\" id=\"link1\">\n",
      "    Elsie\n",
      "   </a>, <a class=\"sister\" href=\"http://example.com/lacie\" id=\"link2\">\n",
      "    Lacie\n",
      "   </a>, <a class=\"sister\" href=\"http://example.com/tillie\" id=\"link2\">\n",
      "    Tillie\n",
      "   </a>]\n",
      "None\n"
     ]
    }
   ],
   "source": [
    "print(soup.title)\n",
    "# <title>The Dormouse's story</title>\n",
    "\n",
    "print(soup.title.name)\n",
    "# u'title'\n",
    "\n",
    "print(soup.title.string)\n",
    "# u'The Dormouse's story'\n",
    "\n",
    "print(soup.title.parent.name)\n",
    "# u'head'\n",
    "\n",
    "print(soup.p)\n",
    "# <p class=\"title\"><b>The Dormouse's story</b></p>\n",
    "\n",
    "print(soup.p['class'])\n",
    "# u'title'\n",
    "\n",
    "print(soup.a)\n",
    "# <a class=\"sister\" href=\"http://example.com/elsie\" id=\"link1\">Elsie</a>\n",
    "\n",
    "print(soup.find_all('a'))\n",
    "# [<a class=\"sister\" href=\"http://example.com/elsie\" id=\"link1\">Elsie</a>,\n",
    "#  <a class=\"sister\" href=\"http://example.com/lacie\" id=\"link2\">Lacie</a>,\n",
    "#  <a class=\"sister\" href=\"http://example.com/tillie\" id=\"link3\">Tillie</a>]\n",
    "\n",
    "print(soup.find(id=\"link3\"))\n",
    "# <a class=\"sister\" href=\"http://example.com/tillie\" id=\"link3\">Tillie</a>\n"
   ]
  },
  {
   "cell_type": "markdown",
   "metadata": {},
   "source": [
    "# Other "
   ]
  },
  {
   "cell_type": "code",
   "execution_count": 50,
   "metadata": {},
   "outputs": [
    {
     "name": "stdout",
     "output_type": "stream",
     "text": [
      "abc\n"
     ]
    }
   ],
   "source": [
    "class A:\n",
    "    ac = 1\n",
    "    def f(self):\n",
    "        print(\"abc\")\n",
    "        \n",
    "    @staticmethod \n",
    "    def main():\n",
    "        print(\"abc\")\n",
    "        \n",
    "\n",
    "if __name__== '__main__':\n",
    "    A.main()\n"
   ]
  },
  {
   "cell_type": "code",
   "execution_count": 7,
   "metadata": {},
   "outputs": [],
   "source": [
    "def add(x,y):\n",
    "    def sub22(x,y):\n",
    "        return x-y\n",
    "    \n",
    "    \n",
    "    return x-y\n",
    "\n",
    "\n",
    "#add(4,2)\n",
    "\n",
    "\n",
    "def f(x,y):\n",
    "        return x/y\n",
    "    \n",
    "\n",
    " "
   ]
  },
  {
   "cell_type": "code",
   "execution_count": 48,
   "metadata": {},
   "outputs": [],
   "source": [
    "sub2 = add\n",
    "sub2(4,3)\n"
   ]
  },
  {
   "cell_type": "code",
   "execution_count": 39,
   "metadata": {},
   "outputs": [
    {
     "data": {
      "text/plain": [
       "8"
      ]
     },
     "execution_count": 39,
     "metadata": {},
     "output_type": "execute_result"
    }
   ],
   "source": [
    "def mul(x,y):\n",
    "    return x*y\n",
    "\n",
    "add = mul\n",
    "\n",
    "add(2,4)"
   ]
  },
  {
   "cell_type": "code",
   "execution_count": null,
   "metadata": {},
   "outputs": [],
   "source": [
    "a , _ = add(1,3)"
   ]
  },
  {
   "cell_type": "code",
   "execution_count": null,
   "metadata": {},
   "outputs": [],
   "source": [
    "_     value is not useful \n",
    "\n",
    "_a      privet\n",
    "__a     strictly privet\n",
    "__a__   python internal var which u can override"
   ]
  },
  {
   "cell_type": "code",
   "execution_count": 51,
   "metadata": {},
   "outputs": [
    {
     "name": "stdout",
     "output_type": "stream",
     "text": [
      "A\n",
      "B\n"
     ]
    }
   ],
   "source": [
    "class A:\n",
    "    def _single_method(self):\n",
    "        pass\n",
    "    def double_method(self): # for mangling\n",
    "         print(\"A\")\n",
    "    \n",
    "#     A_double_method()\n",
    "class B(A):\n",
    "    def double_method(self): # for mangling\n",
    "        print(\"B\")\n",
    "        \n",
    "#         B_double_method()\n",
    "\n",
    "b = B()\n",
    "a = A()\n",
    "a.double_method()\n",
    "b.double_method()"
   ]
  },
  {
   "cell_type": "code",
   "execution_count": 67,
   "metadata": {},
   "outputs": [
    {
     "name": "stdout",
     "output_type": "stream",
     "text": [
      "20\n"
     ]
    }
   ],
   "source": [
    "b=20\n",
    "print(b)"
   ]
  },
  {
   "cell_type": "code",
   "execution_count": 68,
   "metadata": {},
   "outputs": [
    {
     "data": {
      "text/plain": [
       "10"
      ]
     },
     "execution_count": 68,
     "metadata": {},
     "output_type": "execute_result"
    }
   ],
   "source": [
    "_"
   ]
  },
  {
   "cell_type": "code",
   "execution_count": null,
   "metadata": {},
   "outputs": [],
   "source": [
    "# indx val\n",
    "# 0 'abc'\n",
    "# 1 'fff'"
   ]
  },
  {
   "cell_type": "code",
   "execution_count": 53,
   "metadata": {},
   "outputs": [
    {
     "data": {
      "text/plain": [
       "{0: 'abc', 1: 'def', 2: 'hhh'}"
      ]
     },
     "execution_count": 53,
     "metadata": {},
     "output_type": "execute_result"
    }
   ],
   "source": [
    "import enum\n",
    "lst = [\"abc\", \"def\", \"hhh\"]\n",
    "\n",
    "dict(enumerate(lst))"
   ]
  },
  {
   "cell_type": "code",
   "execution_count": null,
   "metadata": {},
   "outputs": [],
   "source": [
    "\n",
    "l1 = [ j*i for i in range(1,5) for j in 'xyz']\n",
    "['x', 'y', 'z', 'xx', 'yy', 'zz', 'xxx', 'yyy', 'zzz', 'xxxx', 'yyyy', 'zzzz']\n",
    "\n",
    "l2 = [ [i+j] for i in range(2,5) for j in range(3)]\n",
    "[[2], [3], [4],  [3], [4], [5],  [4], [5], [6]] \n",
    "\n",
    "l3 = [ [i+j for i in range(2,6)] for j in range(4)]\n",
    "[[2, 3, 4, 5], [3, 4, 5, 6],[4, 5, 6, 7], [5, 6, 7, 8]]\n",
    "\n",
    "l4 = [ (j,i) for i in range(1,4) for j in range(1,4) ]\n",
    "[(1, 1), (2, 1), (3, 1), (1, 2), (2, 2), (3, 2), (1, 3), (2, 3), (3, 3)]"
   ]
  }
 ],
 "metadata": {
  "kernelspec": {
   "display_name": "Python 3",
   "language": "python",
   "name": "python3"
  },
  "language_info": {
   "codemirror_mode": {
    "name": "ipython",
    "version": 3
   },
   "file_extension": ".py",
   "mimetype": "text/x-python",
   "name": "python",
   "nbconvert_exporter": "python",
   "pygments_lexer": "ipython3",
   "version": "3.5.4"
  }
 },
 "nbformat": 4,
 "nbformat_minor": 2
}
